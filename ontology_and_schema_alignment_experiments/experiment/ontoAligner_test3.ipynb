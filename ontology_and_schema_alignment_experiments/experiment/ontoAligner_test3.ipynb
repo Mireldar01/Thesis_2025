{
 "cells": [
  {
   "cell_type": "code",
   "execution_count": 57,
   "id": "c9f52e1d",
   "metadata": {},
   "outputs": [],
   "source": [
    "from rdflib import Graph, RDFS, RDF, OWL, URIRef, Literal\n",
    "import json\n",
    "from collections import defaultdict\n",
    "from urllib.parse import urlparse"
   ]
  },
  {
   "cell_type": "code",
   "execution_count": 58,
   "id": "6e40980c",
   "metadata": {},
   "outputs": [
    {
     "data": {
      "text/plain": [
       "<Graph identifier=N16c4582d6d1b4458bf56feb7a07c00c7 (<class 'rdflib.graph.Graph'>)>"
      ]
     },
     "execution_count": 58,
     "metadata": {},
     "output_type": "execute_result"
    }
   ],
   "source": [
    "g = Graph()\n",
    "g.parse(\"clariah-tools.ttl\", format=\"turtle\")\n",
    "g.serialize(destination='clariah-tools.rdf', format='xml')\n",
    "\n",
    "\n",
    "g = Graph()\n",
    "g.parse(\"code-lib.ttl\", format=\"turtle\")\n",
    "g.serialize(destination='code-lib.rdf', format='xml')"
   ]
  },
  {
   "cell_type": "code",
   "execution_count": null,
   "id": "5ab5bc45",
   "metadata": {},
   "outputs": [],
   "source": [
    "from ontoaligner.base import BaseOntologyParser\n",
    "\n",
    "class SchemaOntologyParser(BaseOntologyParser):\n",
    "\n",
    "    def get_comments(self, owl_property):\n",
    "\n",
    "        comments = []\n",
    "        for p, o in owl_property.graph.predicate_objects(subject=owl_property):\n",
    "            if p == RDFS.comment:\n",
    "                comments.append(str(o))\n",
    "        return comments\n",
    "\n",
    "    def extract_properties(self, graph):\n",
    "        props = set()\n",
    "\n",
    "        for s, _, _ in graph.triples((None, RDF.type, OWL.ObjectProperty)):\n",
    "            if isinstance(s, URIRef):\n",
    "                props.add(s)\n",
    "\n",
    "        for s, _, _ in graph.triples((None, RDF.type, OWL.DatatypeProperty)):\n",
    "            if isinstance(s, URIRef):\n",
    "                props.add(s)\n",
    "\n",
    "        for s, _, _ in graph.triples((None, RDF.type, OWL.AnnotationProperty)):\n",
    "            if isinstance(s, URIRef):\n",
    "                props.add(s)\n",
    "        return props\n",
    "\n",
    "    def parse(self, input_file_path: str = \"\"):\n",
    "        g = Graph()\n",
    "        g.parse(input_file_path, format=\"xml\")\n",
    "        entries = []\n",
    "\n",
    "        for s in self.extract_properties(g):\n",
    "            iri = str(s)\n",
    "            name = None\n",
    "            label = None\n",
    "            parents = []\n",
    "\n",
    "            for p, o in g.predicate_objects(subject=s):\n",
    "                pred = str(p)\n",
    "\n",
    "                if pred.endswith(\"name\"):\n",
    "                    name = str(o)\n",
    "                    label = str(o)\n",
    "\n",
    "                if p == RDF.type:\n",
    "                    parent_iri = str(o)\n",
    "                    parent_name = parent_iri.split(\"#\")[-1] if \"#\" in parent_iri else parent_iri.split(\"/\")[-1]\n",
    "                    parents.append({\n",
    "                        \"iri\": parent_iri,\n",
    "                        \"name\": parent_name,\n",
    "                        \"label\": parent_name\n",
    "                    })\n",
    "\n",
    "            if name and iri:\n",
    "                entries.append({\n",
    "                    \"name\": name,\n",
    "                    \"iri\": iri,\n",
    "                    \"label\": label,\n",
    "                    \"childrens\": [],\n",
    "                    \"parents\": list({p['iri']: p for p in parents}.values()),\n",
    "                    \"synonyms\": [],\n",
    "                    \"comment\": []\n",
    "                })\n",
    "\n",
    "        return entries"
   ]
  },
  {
   "cell_type": "code",
   "execution_count": 64,
   "id": "11c01f3f",
   "metadata": {},
   "outputs": [],
   "source": [
    "from ontoaligner.ontology import OMDataset\n",
    "\n",
    "class SchemaOMDataset(OMDataset):\n",
    "\n",
    "    track = \"Schema-Alignment\"\n",
    "    ontology_name = \"ClariahTools-CodeLib\"\n",
    "    source_ontology = SchemaOntologyParser()\n",
    "    target_ontology = SchemaOntologyParser()\n",
    "\n",
    "\n",
    "task = SchemaOMDataset()\n",
    "\n",
    "dataset = task.collect(source_ontology_path = \"clariah-tools.rdf\", target_ontology_path = \"code-lib.rdf\")"
   ]
  },
  {
   "cell_type": "code",
   "execution_count": 65,
   "id": "fe4c921b",
   "metadata": {},
   "outputs": [
    {
     "data": {
      "text/plain": [
       "{'dataset-info': {'track': 'Schema-Alignment',\n",
       "  'ontology-name': 'ClariahTools-CodeLib'},\n",
       " 'source': [],\n",
       " 'target': [],\n",
       " 'reference': []}"
      ]
     },
     "execution_count": 65,
     "metadata": {},
     "output_type": "execute_result"
    }
   ],
   "source": [
    "dataset"
   ]
  },
  {
   "cell_type": "code",
   "execution_count": 62,
   "id": "371da71d",
   "metadata": {},
   "outputs": [
    {
     "name": "stderr",
     "output_type": "stream",
     "text": [
      "0it [00:00, ?it/s]\n"
     ]
    }
   ],
   "source": [
    "from ontoaligner import ontology, encoder\n",
    "from ontoaligner.aligner import SimpleFuzzySMLightweight\n",
    "from ontoaligner.utils import metrics, xmlify\n",
    "\n",
    "encoder_model = encoder.ConceptParentLightweightEncoder()\n",
    "encoder_output = encoder_model(\n",
    "        source=dataset['source'],\n",
    "        target=dataset['target']\n",
    ")\n",
    "\n",
    "model = SimpleFuzzySMLightweight(fuzzy_sm_threshold=0.5)\n",
    "matchings = model.generate(input_data=encoder_output)"
   ]
  },
  {
   "cell_type": "code",
   "execution_count": 63,
   "id": "b3f84d12",
   "metadata": {},
   "outputs": [
    {
     "data": {
      "text/plain": [
       "[]"
      ]
     },
     "execution_count": 63,
     "metadata": {},
     "output_type": "execute_result"
    }
   ],
   "source": [
    "matchings"
   ]
  }
 ],
 "metadata": {
  "kernelspec": {
   "display_name": "Python 3",
   "language": "python",
   "name": "python3"
  },
  "language_info": {
   "codemirror_mode": {
    "name": "ipython",
    "version": 3
   },
   "file_extension": ".py",
   "mimetype": "text/x-python",
   "name": "python",
   "nbconvert_exporter": "python",
   "pygments_lexer": "ipython3",
   "version": "3.11.9"
  }
 },
 "nbformat": 4,
 "nbformat_minor": 5
}
